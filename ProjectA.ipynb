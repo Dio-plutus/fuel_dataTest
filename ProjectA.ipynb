{
  "nbformat": 4,
  "nbformat_minor": 0,
  "metadata": {
    "colab": {
      "name": "ProjectA.ipynb",
      "provenance": [],
      "collapsed_sections": [],
      "authorship_tag": "ABX9TyPbzTSTfYqsAvn06ILHyBe2",
      "include_colab_link": true
    },
    "kernelspec": {
      "name": "python3",
      "display_name": "Python 3"
    }
  },
  "cells": [
    {
      "cell_type": "markdown",
      "metadata": {
        "id": "view-in-github",
        "colab_type": "text"
      },
      "source": [
        "<a href=\"https://colab.research.google.com/github/vermilion4/fuel_dataTest/blob/master/ProjectA.ipynb\" target=\"_parent\"><img src=\"https://colab.research.google.com/assets/colab-badge.svg\" alt=\"Open In Colab\"/></a>"
      ]
    },
    {
      "cell_type": "code",
      "metadata": {
        "id": "ct0lxCjeUNWD",
        "colab_type": "code",
        "colab": {
          "base_uri": "https://localhost:8080/",
          "height": 383
        },
        "outputId": "a0c135c6-0b3d-4534-cec4-2ae078f93275"
      },
      "source": [
        "import pandas as pd\n",
        "import numpy as np\n",
        "\n",
        "url = 'https://raw.githubusercontent.com/WalePhenomenon/climate_change/master/fuel_ferc1.csv'\n",
        "fuel_data = pd.read_csv(url,error_bad_lines = False)\n",
        "\n",
        "fuel_data.head(10)"
      ],
      "execution_count": 1,
      "outputs": [
        {
          "output_type": "execute_result",
          "data": {
            "text/html": [
              "<div>\n",
              "<style scoped>\n",
              "    .dataframe tbody tr th:only-of-type {\n",
              "        vertical-align: middle;\n",
              "    }\n",
              "\n",
              "    .dataframe tbody tr th {\n",
              "        vertical-align: top;\n",
              "    }\n",
              "\n",
              "    .dataframe thead th {\n",
              "        text-align: right;\n",
              "    }\n",
              "</style>\n",
              "<table border=\"1\" class=\"dataframe\">\n",
              "  <thead>\n",
              "    <tr style=\"text-align: right;\">\n",
              "      <th></th>\n",
              "      <th>record_id</th>\n",
              "      <th>utility_id_ferc1</th>\n",
              "      <th>report_year</th>\n",
              "      <th>plant_name_ferc1</th>\n",
              "      <th>fuel_type_code_pudl</th>\n",
              "      <th>fuel_unit</th>\n",
              "      <th>fuel_qty_burned</th>\n",
              "      <th>fuel_mmbtu_per_unit</th>\n",
              "      <th>fuel_cost_per_unit_burned</th>\n",
              "      <th>fuel_cost_per_unit_delivered</th>\n",
              "      <th>fuel_cost_per_mmbtu</th>\n",
              "    </tr>\n",
              "  </thead>\n",
              "  <tbody>\n",
              "    <tr>\n",
              "      <th>0</th>\n",
              "      <td>f1_fuel_1994_12_1_0_7</td>\n",
              "      <td>1</td>\n",
              "      <td>1994</td>\n",
              "      <td>rockport</td>\n",
              "      <td>coal</td>\n",
              "      <td>ton</td>\n",
              "      <td>5377489.0</td>\n",
              "      <td>16.590000</td>\n",
              "      <td>18.59</td>\n",
              "      <td>18.53</td>\n",
              "      <td>1.121</td>\n",
              "    </tr>\n",
              "    <tr>\n",
              "      <th>1</th>\n",
              "      <td>f1_fuel_1994_12_1_0_10</td>\n",
              "      <td>1</td>\n",
              "      <td>1994</td>\n",
              "      <td>rockport total plant</td>\n",
              "      <td>coal</td>\n",
              "      <td>ton</td>\n",
              "      <td>10486945.0</td>\n",
              "      <td>16.592000</td>\n",
              "      <td>18.58</td>\n",
              "      <td>18.53</td>\n",
              "      <td>1.120</td>\n",
              "    </tr>\n",
              "    <tr>\n",
              "      <th>2</th>\n",
              "      <td>f1_fuel_1994_12_2_0_1</td>\n",
              "      <td>2</td>\n",
              "      <td>1994</td>\n",
              "      <td>gorgas</td>\n",
              "      <td>coal</td>\n",
              "      <td>ton</td>\n",
              "      <td>2978683.0</td>\n",
              "      <td>24.130000</td>\n",
              "      <td>39.72</td>\n",
              "      <td>38.12</td>\n",
              "      <td>1.650</td>\n",
              "    </tr>\n",
              "    <tr>\n",
              "      <th>3</th>\n",
              "      <td>f1_fuel_1994_12_2_0_7</td>\n",
              "      <td>2</td>\n",
              "      <td>1994</td>\n",
              "      <td>barry</td>\n",
              "      <td>coal</td>\n",
              "      <td>ton</td>\n",
              "      <td>3739484.0</td>\n",
              "      <td>23.950000</td>\n",
              "      <td>47.21</td>\n",
              "      <td>45.99</td>\n",
              "      <td>1.970</td>\n",
              "    </tr>\n",
              "    <tr>\n",
              "      <th>4</th>\n",
              "      <td>f1_fuel_1994_12_2_0_10</td>\n",
              "      <td>2</td>\n",
              "      <td>1994</td>\n",
              "      <td>chickasaw</td>\n",
              "      <td>gas</td>\n",
              "      <td>mcf</td>\n",
              "      <td>40533.0</td>\n",
              "      <td>1.000000</td>\n",
              "      <td>2.77</td>\n",
              "      <td>2.77</td>\n",
              "      <td>2.570</td>\n",
              "    </tr>\n",
              "    <tr>\n",
              "      <th>5</th>\n",
              "      <td>f1_fuel_1994_12_2_0_13</td>\n",
              "      <td>2</td>\n",
              "      <td>1994</td>\n",
              "      <td>e. c. gaston-unit 5</td>\n",
              "      <td>coal</td>\n",
              "      <td>ton</td>\n",
              "      <td>2124933.0</td>\n",
              "      <td>23.922000</td>\n",
              "      <td>44.24</td>\n",
              "      <td>43.25</td>\n",
              "      <td>1.850</td>\n",
              "    </tr>\n",
              "    <tr>\n",
              "      <th>6</th>\n",
              "      <td>f1_fuel_1994_12_2_1_1</td>\n",
              "      <td>2</td>\n",
              "      <td>1994</td>\n",
              "      <td>joseph m. farley</td>\n",
              "      <td>nuclear</td>\n",
              "      <td>kgU</td>\n",
              "      <td>2260.0</td>\n",
              "      <td>0.064094</td>\n",
              "      <td>28.77</td>\n",
              "      <td>0.00</td>\n",
              "      <td>0.450</td>\n",
              "    </tr>\n",
              "    <tr>\n",
              "      <th>7</th>\n",
              "      <td>f1_fuel_1994_12_2_1_10</td>\n",
              "      <td>2</td>\n",
              "      <td>1994</td>\n",
              "      <td>resondent's portion</td>\n",
              "      <td>coal</td>\n",
              "      <td>ton</td>\n",
              "      <td>5372133.0</td>\n",
              "      <td>24.840000</td>\n",
              "      <td>58.54</td>\n",
              "      <td>55.13</td>\n",
              "      <td>2.360</td>\n",
              "    </tr>\n",
              "    <tr>\n",
              "      <th>8</th>\n",
              "      <td>f1_fuel_1994_12_2_2_10</td>\n",
              "      <td>2</td>\n",
              "      <td>1994</td>\n",
              "      <td>respondent's portion</td>\n",
              "      <td>coal</td>\n",
              "      <td>ton</td>\n",
              "      <td>817520.0</td>\n",
              "      <td>24.290000</td>\n",
              "      <td>33.97</td>\n",
              "      <td>34.65</td>\n",
              "      <td>1.400</td>\n",
              "    </tr>\n",
              "    <tr>\n",
              "      <th>9</th>\n",
              "      <td>f1_fuel_1994_12_4_0_1</td>\n",
              "      <td>4</td>\n",
              "      <td>1994</td>\n",
              "      <td>units 1-3</td>\n",
              "      <td>coal</td>\n",
              "      <td>ton</td>\n",
              "      <td>1471233.0</td>\n",
              "      <td>22.484000</td>\n",
              "      <td>28.73</td>\n",
              "      <td>28.11</td>\n",
              "      <td>1.278</td>\n",
              "    </tr>\n",
              "  </tbody>\n",
              "</table>\n",
              "</div>"
            ],
            "text/plain": [
              "                record_id  ...  fuel_cost_per_mmbtu\n",
              "0   f1_fuel_1994_12_1_0_7  ...                1.121\n",
              "1  f1_fuel_1994_12_1_0_10  ...                1.120\n",
              "2   f1_fuel_1994_12_2_0_1  ...                1.650\n",
              "3   f1_fuel_1994_12_2_0_7  ...                1.970\n",
              "4  f1_fuel_1994_12_2_0_10  ...                2.570\n",
              "5  f1_fuel_1994_12_2_0_13  ...                1.850\n",
              "6   f1_fuel_1994_12_2_1_1  ...                0.450\n",
              "7  f1_fuel_1994_12_2_1_10  ...                2.360\n",
              "8  f1_fuel_1994_12_2_2_10  ...                1.400\n",
              "9   f1_fuel_1994_12_4_0_1  ...                1.278\n",
              "\n",
              "[10 rows x 11 columns]"
            ]
          },
          "metadata": {
            "tags": []
          },
          "execution_count": 1
        }
      ]
    },
    {
      "cell_type": "code",
      "metadata": {
        "id": "4-AdMyQsqlNk",
        "colab_type": "code",
        "colab": {}
      },
      "source": [
        "fuel_data.tail(1)"
      ],
      "execution_count": null,
      "outputs": []
    },
    {
      "cell_type": "code",
      "metadata": {
        "id": "2zV8aTNVrLTN",
        "colab_type": "code",
        "colab": {
          "base_uri": "https://localhost:8080/",
          "height": 235
        },
        "outputId": "79e0472f-7266-4fb2-c0d4-efdd133aa216"
      },
      "source": [
        "fuel_data.count()\n",
        "#fuel_data.values[0:]"
      ],
      "execution_count": null,
      "outputs": [
        {
          "output_type": "execute_result",
          "data": {
            "text/plain": [
              "record_id                       29523\n",
              "utility_id_ferc1                29523\n",
              "report_year                     29523\n",
              "plant_name_ferc1                29523\n",
              "fuel_type_code_pudl             29523\n",
              "fuel_unit                       29523\n",
              "fuel_qty_burned                 29523\n",
              "fuel_mmbtu_per_unit             29523\n",
              "fuel_cost_per_unit_burned       29523\n",
              "fuel_cost_per_unit_delivered    29523\n",
              "fuel_cost_per_mmbtu             29523\n",
              "dtype: int64"
            ]
          },
          "metadata": {
            "tags": []
          },
          "execution_count": 53
        }
      ]
    },
    {
      "cell_type": "code",
      "metadata": {
        "id": "Yw3WEP6rr4JW",
        "colab_type": "code",
        "colab": {}
      },
      "source": [
        "fuel_data.size"
      ],
      "execution_count": null,
      "outputs": []
    },
    {
      "cell_type": "code",
      "metadata": {
        "id": "UHN-YybStFVI",
        "colab_type": "code",
        "colab": {}
      },
      "source": [
        "fuel_data.columns"
      ],
      "execution_count": null,
      "outputs": []
    },
    {
      "cell_type": "code",
      "metadata": {
        "id": "aJBiAe5KxnIt",
        "colab_type": "code",
        "colab": {}
      },
      "source": [
        "fuel_data.dtypes"
      ],
      "execution_count": null,
      "outputs": []
    },
    {
      "cell_type": "code",
      "metadata": {
        "id": "g1Y4FfHZxz4t",
        "colab_type": "code",
        "colab": {}
      },
      "source": [
        "fuel_data.isnull().sum()\n",
        "\n",
        "fuel_data.groupby('fuel_unit')['fuel_unit'].count()\n",
        "fuel_data[['fuel_unit']] = fuel_data[['fuel_unit']].fillna(value='mcf')\n",
        "\n",
        "fuel_data.isnull().sum()\n",
        "fuel_data.count()\n",
        "#fuel_data.size"
      ],
      "execution_count": null,
      "outputs": []
    },
    {
      "cell_type": "code",
      "metadata": {
        "id": "Ie2OAsSk02Qc",
        "colab_type": "code",
        "colab": {}
      },
      "source": [
        "fuel_data.describe()"
      ],
      "execution_count": null,
      "outputs": []
    },
    {
      "cell_type": "code",
      "metadata": {
        "id": "rD3Gu6pn08w7",
        "colab_type": "code",
        "colab": {
          "base_uri": "https://localhost:8080/",
          "height": 162
        },
        "outputId": "6c2e7ffc-c57f-4bdd-ca46-19bdd26d0fb3"
      },
      "source": [
        "fuel_data.std(numeric_only=True)"
      ],
      "execution_count": null,
      "outputs": [
        {
          "output_type": "execute_result",
          "data": {
            "text/plain": [
              "utility_id_ferc1                7.417835e+01\n",
              "report_year                     7.025483e+00\n",
              "fuel_qty_burned                 9.118004e+06\n",
              "fuel_mmbtu_per_unit             1.060022e+01\n",
              "fuel_cost_per_unit_burned       2.854490e+03\n",
              "fuel_cost_per_unit_delivered    6.877593e+04\n",
              "fuel_cost_per_mmbtu             2.091541e+03\n",
              "dtype: float64"
            ]
          },
          "metadata": {
            "tags": []
          },
          "execution_count": 55
        }
      ]
    },
    {
      "cell_type": "code",
      "metadata": {
        "id": "3dspIKxd1Npk",
        "colab_type": "code",
        "colab": {}
      },
      "source": [
        "fuel_data.head(50).mean()"
      ],
      "execution_count": null,
      "outputs": []
    },
    {
      "cell_type": "code",
      "metadata": {
        "id": "MqqlnQov1aNb",
        "colab_type": "code",
        "colab": {}
      },
      "source": [
        "fuel_data[['report_year']].describe()"
      ],
      "execution_count": null,
      "outputs": []
    },
    {
      "cell_type": "code",
      "metadata": {
        "id": "mPNmCFS016mT",
        "colab_type": "code",
        "colab": {}
      },
      "source": [
        "fuel_data[['report_year']].count()"
      ],
      "execution_count": null,
      "outputs": []
    },
    {
      "cell_type": "code",
      "metadata": {
        "id": "2HKKB2362ZBI",
        "colab_type": "code",
        "colab": {
          "base_uri": "https://localhost:8080/",
          "height": 35
        },
        "outputId": "372fe36a-4acb-4e75-8d12-9bda7215daa3"
      },
      "source": [
        "fuel_sum = fuel_data['report_year'].sum()\n",
        "fuel_count = fuel_data['report_year'].count()\n",
        "avg_yr = int(fuel_sum/fuel_count)\n",
        "print('Average year: ',avg_yr)\n",
        "\n"
      ],
      "execution_count": null,
      "outputs": [
        {
          "output_type": "stream",
          "text": [
            "Average year:  2005\n"
          ],
          "name": "stdout"
        }
      ]
    },
    {
      "cell_type": "code",
      "metadata": {
        "id": "o1CtYGBg47ZE",
        "colab_type": "code",
        "colab": {
          "base_uri": "https://localhost:8080/",
          "height": 356
        },
        "outputId": "92f07bba-abff-42b1-ac01-c9990ef20cde"
      },
      "source": [
        "import matplotlib.pyplot as plt\n",
        "import seaborn as sns\n",
        "\n",
        "#fuel_grp = fuel_data.groupby(['report_year'])\n",
        "#mean = fuel_grp[['fuel_cost_per_unit_burned']].mean()\n",
        "\n",
        "plt.figure(figsize=(15,5))\n",
        "\n",
        "sns.barplot(data=fuel_data, x='report_year', y='fuel_cost_per_unit_burned') \n",
        "\n"
      ],
      "execution_count": null,
      "outputs": [
        {
          "output_type": "execute_result",
          "data": {
            "text/plain": [
              "<matplotlib.axes._subplots.AxesSubplot at 0x7f076f6cd908>"
            ]
          },
          "metadata": {
            "tags": []
          },
          "execution_count": 91
        },
        {
          "output_type": "display_data",
          "data": {
            "image/png": "[encoded data removed]",
            "text/plain": [
              "<Figure size 1080x360 with 1 Axes>"
            ]
          },
          "metadata": {
            "tags": [],
            "needs_background": "light"
          }
        }
      ]
    },
    {
      "cell_type": "code",
      "metadata": {
        "id": "7Ogm0OEq-FoZ",
        "colab_type": "code",
        "colab": {}
      },
      "source": [
        "fuel_grp[['fuel_cost_per_unit_burned']].mean()"
      ],
      "execution_count": null,
      "outputs": []
    },
    {
      "cell_type": "code",
      "metadata": {
        "id": "x_mvztJHK35g",
        "colab_type": "code",
        "colab": {
          "base_uri": "https://localhost:8080/",
          "height": 248
        },
        "outputId": "4179172b-14fc-4f1a-db10-7bff77896b8a"
      },
      "source": [
        "labels = 'Frogs', 'Hogs', 'Dogs', 'Logs'\n",
        "sizes = [15, 30, 45, 10]\n",
        "explode = (0, 0.1, 0, 0)  # only \"explode\" the 2nd slice (i.e. 'Hogs')\n",
        "\n",
        "fig1, ax1 = plt.subplots()\n",
        "ax1.pie(sizes, explode=explode, labels=labels, autopct='%1.1f%%',\n",
        "        shadow=True, startangle=90)\n",
        "ax1.axis('equal')  # Equal aspect ratio ensures that pie is drawn as a circle.\n",
        "ax1.pie()\n",
        "plt.show()"
      ],
      "execution_count": null,
      "outputs": [
        {
          "output_type": "display_data",
          "data": {
            "image/png": "[encoded data removed]",
            "text/plain": [
              "<Figure size 432x288 with 1 Axes>"
            ]
          },
          "metadata": {
            "tags": []
          }
        }
      ]
    },
    {
      "cell_type": "code",
      "metadata": {
        "id": "svGUz16ZNKhw",
        "colab_type": "code",
        "colab": {
          "base_uri": "https://localhost:8080/",
          "height": 461
        },
        "outputId": "f8f47170-cb83-4f2f-9310-640ba1b0ea20"
      },
      "source": [
        "fuel_data[fuel_data['report_year']>2000]\n"
      ],
      "execution_count": 2,
      "outputs": [
        {
          "output_type": "execute_result",
          "data": {
            "text/html": [
              "<div>\n",
              "<style scoped>\n",
              "    .dataframe tbody tr th:only-of-type {\n",
              "        vertical-align: middle;\n",
              "    }\n",
              "\n",
              "    .dataframe tbody tr th {\n",
              "        vertical-align: top;\n",
              "    }\n",
              "\n",
              "    .dataframe thead th {\n",
              "        text-align: right;\n",
              "    }\n",
              "</style>\n",
              "<table border=\"1\" class=\"dataframe\">\n",
              "  <thead>\n",
              "    <tr style=\"text-align: right;\">\n",
              "      <th></th>\n",
              "      <th>record_id</th>\n",
              "      <th>utility_id_ferc1</th>\n",
              "      <th>report_year</th>\n",
              "      <th>plant_name_ferc1</th>\n",
              "      <th>fuel_type_code_pudl</th>\n",
              "      <th>fuel_unit</th>\n",
              "      <th>fuel_qty_burned</th>\n",
              "      <th>fuel_mmbtu_per_unit</th>\n",
              "      <th>fuel_cost_per_unit_burned</th>\n",
              "      <th>fuel_cost_per_unit_delivered</th>\n",
              "      <th>fuel_cost_per_mmbtu</th>\n",
              "    </tr>\n",
              "  </thead>\n",
              "  <tbody>\n",
              "    <tr>\n",
              "      <th>8148</th>\n",
              "      <td>f1_fuel_2001_12_195_0_1</td>\n",
              "      <td>195</td>\n",
              "      <td>2001</td>\n",
              "      <td>pulliam 3</td>\n",
              "      <td>coal</td>\n",
              "      <td>ton</td>\n",
              "      <td>55679.0</td>\n",
              "      <td>17.638</td>\n",
              "      <td>20.56</td>\n",
              "      <td>19.38</td>\n",
              "      <td>1.156</td>\n",
              "    </tr>\n",
              "    <tr>\n",
              "      <th>8149</th>\n",
              "      <td>f1_fuel_2001_12_195_0_3</td>\n",
              "      <td>195</td>\n",
              "      <td>2001</td>\n",
              "      <td>pulliam 3</td>\n",
              "      <td>gas</td>\n",
              "      <td>mcf</td>\n",
              "      <td>42244.0</td>\n",
              "      <td>1.007</td>\n",
              "      <td>4.66</td>\n",
              "      <td>4.66</td>\n",
              "      <td>4.632</td>\n",
              "    </tr>\n",
              "    <tr>\n",
              "      <th>8150</th>\n",
              "      <td>f1_fuel_2001_12_195_0_4</td>\n",
              "      <td>195</td>\n",
              "      <td>2001</td>\n",
              "      <td>pulliam 4</td>\n",
              "      <td>coal</td>\n",
              "      <td>ton</td>\n",
              "      <td>81980.0</td>\n",
              "      <td>17.656</td>\n",
              "      <td>20.68</td>\n",
              "      <td>17.99</td>\n",
              "      <td>1.162</td>\n",
              "    </tr>\n",
              "    <tr>\n",
              "      <th>8151</th>\n",
              "      <td>f1_fuel_2001_12_195_0_6</td>\n",
              "      <td>195</td>\n",
              "      <td>2001</td>\n",
              "      <td>pulliam 4</td>\n",
              "      <td>gas</td>\n",
              "      <td>mcf</td>\n",
              "      <td>58549.0</td>\n",
              "      <td>1.007</td>\n",
              "      <td>4.66</td>\n",
              "      <td>4.66</td>\n",
              "      <td>4.624</td>\n",
              "    </tr>\n",
              "    <tr>\n",
              "      <th>8152</th>\n",
              "      <td>f1_fuel_2001_12_195_0_7</td>\n",
              "      <td>195</td>\n",
              "      <td>2001</td>\n",
              "      <td>pulliam 5</td>\n",
              "      <td>coal</td>\n",
              "      <td>ton</td>\n",
              "      <td>206915.0</td>\n",
              "      <td>17.612</td>\n",
              "      <td>20.51</td>\n",
              "      <td>17.99</td>\n",
              "      <td>1.155</td>\n",
              "    </tr>\n",
              "    <tr>\n",
              "      <th>...</th>\n",
              "      <td>...</td>\n",
              "      <td>...</td>\n",
              "      <td>...</td>\n",
              "      <td>...</td>\n",
              "      <td>...</td>\n",
              "      <td>...</td>\n",
              "      <td>...</td>\n",
              "      <td>...</td>\n",
              "      <td>...</td>\n",
              "      <td>...</td>\n",
              "      <td>...</td>\n",
              "    </tr>\n",
              "    <tr>\n",
              "      <th>29518</th>\n",
              "      <td>f1_fuel_2018_12_12_0_13</td>\n",
              "      <td>12</td>\n",
              "      <td>2018</td>\n",
              "      <td>neil simpson ct #1</td>\n",
              "      <td>gas</td>\n",
              "      <td>mcf</td>\n",
              "      <td>18799.0</td>\n",
              "      <td>1.059</td>\n",
              "      <td>4.78</td>\n",
              "      <td>4.78</td>\n",
              "      <td>9.030</td>\n",
              "    </tr>\n",
              "    <tr>\n",
              "      <th>29519</th>\n",
              "      <td>f1_fuel_2018_12_12_1_1</td>\n",
              "      <td>12</td>\n",
              "      <td>2018</td>\n",
              "      <td>cheyenne prairie 58%</td>\n",
              "      <td>gas</td>\n",
              "      <td>mcf</td>\n",
              "      <td>806730.0</td>\n",
              "      <td>1.050</td>\n",
              "      <td>3.65</td>\n",
              "      <td>3.65</td>\n",
              "      <td>6.950</td>\n",
              "    </tr>\n",
              "    <tr>\n",
              "      <th>29520</th>\n",
              "      <td>f1_fuel_2018_12_12_1_10</td>\n",
              "      <td>12</td>\n",
              "      <td>2018</td>\n",
              "      <td>lange ct facility</td>\n",
              "      <td>gas</td>\n",
              "      <td>mcf</td>\n",
              "      <td>104554.0</td>\n",
              "      <td>1.060</td>\n",
              "      <td>4.77</td>\n",
              "      <td>4.77</td>\n",
              "      <td>8.990</td>\n",
              "    </tr>\n",
              "    <tr>\n",
              "      <th>29521</th>\n",
              "      <td>f1_fuel_2018_12_12_1_13</td>\n",
              "      <td>12</td>\n",
              "      <td>2018</td>\n",
              "      <td>wygen 3 bhp 52%</td>\n",
              "      <td>coal</td>\n",
              "      <td>ton</td>\n",
              "      <td>315945.0</td>\n",
              "      <td>16.108</td>\n",
              "      <td>3.06</td>\n",
              "      <td>14.76</td>\n",
              "      <td>1.110</td>\n",
              "    </tr>\n",
              "    <tr>\n",
              "      <th>29522</th>\n",
              "      <td>f1_fuel_2018_12_12_1_14</td>\n",
              "      <td>12</td>\n",
              "      <td>2018</td>\n",
              "      <td>wygen 3 bhp 52%</td>\n",
              "      <td>gas</td>\n",
              "      <td>mcf</td>\n",
              "      <td>17853.0</td>\n",
              "      <td>1.059</td>\n",
              "      <td>0.00</td>\n",
              "      <td>0.00</td>\n",
              "      <td>11.680</td>\n",
              "    </tr>\n",
              "  </tbody>\n",
              "</table>\n",
              "<p>21375 rows × 11 columns</p>\n",
              "</div>"
            ],
            "text/plain": [
              "                     record_id  ...  fuel_cost_per_mmbtu\n",
              "8148   f1_fuel_2001_12_195_0_1  ...                1.156\n",
              "8149   f1_fuel_2001_12_195_0_3  ...                4.632\n",
              "8150   f1_fuel_2001_12_195_0_4  ...                1.162\n",
              "8151   f1_fuel_2001_12_195_0_6  ...                4.624\n",
              "8152   f1_fuel_2001_12_195_0_7  ...                1.155\n",
              "...                        ...  ...                  ...\n",
              "29518  f1_fuel_2018_12_12_0_13  ...                9.030\n",
              "29519   f1_fuel_2018_12_12_1_1  ...                6.950\n",
              "29520  f1_fuel_2018_12_12_1_10  ...                8.990\n",
              "29521  f1_fuel_2018_12_12_1_13  ...                1.110\n",
              "29522  f1_fuel_2018_12_12_1_14  ...               11.680\n",
              "\n",
              "[21375 rows x 11 columns]"
            ]
          },
          "metadata": {
            "tags": []
          },
          "execution_count": 2
        }
      ]
    }
  ]
}